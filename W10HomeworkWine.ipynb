{
  "nbformat": 4,
  "nbformat_minor": 0,
  "metadata": {
    "colab": {
      "provenance": [],
      "authorship_tag": "ABX9TyOM/qHmTKOj+iNDWX5xZagw",
      "include_colab_link": true
    },
    "kernelspec": {
      "name": "python3",
      "display_name": "Python 3"
    },
    "language_info": {
      "name": "python"
    }
  },
  "cells": [
    {
      "cell_type": "markdown",
      "metadata": {
        "id": "view-in-github",
        "colab_type": "text"
      },
      "source": [
        "<a href=\"https://colab.research.google.com/github/jesme00/jesme00.github.io/blob/main/W10HomeworkWine.ipynb\" target=\"_parent\"><img src=\"https://colab.research.google.com/assets/colab-badge.svg\" alt=\"Open In Colab\"/></a>"
      ]
    },
    {
      "cell_type": "markdown",
      "source": [
        "Unsupervised Classification - My Homework Model"
      ],
      "metadata": {
        "id": "AmGFqyLJYu5g"
      }
    },
    {
      "cell_type": "markdown",
      "source": [
        "No matter how many columns are in a dataset, we can produce a model that takes into account a little bit of each column, and the model ends up reducing the data to having two synthetic columns. This is known as dimensionality reduction."
      ],
      "metadata": {
        "id": "QTJV9uxaYbvq"
      }
    },
    {
      "cell_type": "markdown",
      "source": [
        "This is where the old iris dataset came from: https://scikit-learn.org/stable/auto_examples/datasets/plot_iris_dataset.html\n",
        "\n",
        "I subsequently went to https://scikit-learn.org/stable/auto_examples/datasets to find a different dataset to use for my homework."
      ],
      "metadata": {
        "id": "xowPSjBHJAWb"
      }
    },
    {
      "cell_type": "markdown",
      "source": [
        "I found a wine dataset, that classifies wines grown in the same region in Italy into 3 groups, based on which cultivator has grown them. It documents 13 different attributes of each wine. https://www.csie.ntu.edu.tw/~cjlin/libsvmtools/datasets/multiclass.html#wine "
      ],
      "metadata": {
        "id": "vFg4p_MIK0Ty"
      }
    },
    {
      "cell_type": "code",
      "source": [
        "%matplotlib inline\n",
        "import numpy as np\n",
        "import matplotlib.pyplot as plt\n",
        "plt.style.use('seaborn')"
      ],
      "metadata": {
        "id": "lR5jMqNHJNBK"
      },
      "execution_count": 63,
      "outputs": []
    },
    {
      "cell_type": "code",
      "source": [
        "from sklearn import neighbors, datasets\n",
        "\n",
        "wine = datasets.load_wine()\n",
        "X, y = wine.data, wine.target\n",
        "\n",
        "X.shape"
      ],
      "metadata": {
        "colab": {
          "base_uri": "https://localhost:8080/"
        },
        "id": "HsKUs2MaJP71",
        "outputId": "f552f725-311e-4245-9f46-099d20d8e763"
      },
      "execution_count": 64,
      "outputs": [
        {
          "output_type": "execute_result",
          "data": {
            "text/plain": [
              "(178, 13)"
            ]
          },
          "metadata": {},
          "execution_count": 64
        }
      ]
    },
    {
      "cell_type": "code",
      "source": [
        "knn = neighbors.KNeighborsClassifier()\n",
        "# knn = neighbors.KNeighborsClassifier(n_neighbors=15) #you can specify the number of neighbors if you'd like\n",
        "\n",
        "# fit the model\n",
        "knn.fit(X, y)"
      ],
      "metadata": {
        "colab": {
          "base_uri": "https://localhost:8080/"
        },
        "id": "ZuNpav4dJcjb",
        "outputId": "7daed0f6-cf3f-4052-9f74-f7dc012c660c"
      },
      "execution_count": 65,
      "outputs": [
        {
          "output_type": "execute_result",
          "data": {
            "text/plain": [
              "KNeighborsClassifier()"
            ]
          },
          "metadata": {},
          "execution_count": 65
        }
      ]
    },
    {
      "cell_type": "code",
      "source": [
        "wine.feature_names, wine.target_names"
      ],
      "metadata": {
        "colab": {
          "base_uri": "https://localhost:8080/"
        },
        "id": "XUYL1oP2Jhku",
        "outputId": "bca9e320-0d25-4311-80d8-3de7237f5d04"
      },
      "execution_count": 66,
      "outputs": [
        {
          "output_type": "execute_result",
          "data": {
            "text/plain": [
              "(['alcohol',\n",
              "  'malic_acid',\n",
              "  'ash',\n",
              "  'alcalinity_of_ash',\n",
              "  'magnesium',\n",
              "  'total_phenols',\n",
              "  'flavanoids',\n",
              "  'nonflavanoid_phenols',\n",
              "  'proanthocyanins',\n",
              "  'color_intensity',\n",
              "  'hue',\n",
              "  'od280/od315_of_diluted_wines',\n",
              "  'proline'],\n",
              " array(['class_0', 'class_1', 'class_2'], dtype='<U7'))"
            ]
          },
          "metadata": {},
          "execution_count": 66
        }
      ]
    },
    {
      "cell_type": "code",
      "source": [
        "# Who has grown the wine with the following attributes: 0.60, -0.6, 0.15, -0.5,0.24,0.27,0.15,-0.45,0.2,-0.28,-0.1,0.99,0.15?\n",
        "# call the \"predict\" method:\n",
        "result = knn.predict([[0.60, -0.6, 0.15, -0.5,0.24,0.27,0.15,-0.45,0.2,-0.28,-0.1,0.99,0.15]])\n",
        "\n",
        "print(result,wine.target_names[result])"
      ],
      "metadata": {
        "colab": {
          "base_uri": "https://localhost:8080/"
        },
        "id": "RRgAadS5JkSd",
        "outputId": "927d66fa-d1a2-464e-d0c6-806ba7280950"
      },
      "execution_count": 67,
      "outputs": [
        {
          "output_type": "stream",
          "name": "stdout",
          "text": [
            "[1] ['class_1']\n"
          ]
        }
      ]
    },
    {
      "cell_type": "markdown",
      "source": [
        "Cultivator 'class_1' has is most likely to be the producer of a wine like this"
      ],
      "metadata": {
        "id": "oFiDroxkVVK_"
      }
    },
    {
      "cell_type": "code",
      "source": [
        "from sklearn import neighbors, datasets, linear_model\n",
        "import pylab as pl\n",
        "import numpy as np\n",
        "from matplotlib.colors import ListedColormap\n",
        "\n",
        "# Create color maps for 3-class classification problem, as with iris\n",
        "cmap_light = ListedColormap(['#FFAAAA', '#AAFFAA', '#AAAAFF'])\n",
        "cmap_bold = ListedColormap(['#FF0000', '#00FF00', '#0000FF'])\n",
        "\n",
        "def plot_wine_knn():\n",
        "    wine = datasets.load_wine()\n",
        "    X = wine.data[:, 2:4]  # we only take the first two features. We could avoid this ugly slicing by using a two-dim dataset\n",
        "                #try 2:4 \n",
        "    y = wine.target\n",
        "\n",
        "    knn = neighbors.KNeighborsClassifier(n_neighbors=10) #Try changing the number of neighbors\n",
        "    knn.fit(X, y)\n",
        "\n",
        "    x_min, x_max = X[:, 0].min() - .1, X[:, 0].max() + .1\n",
        "    y_min, y_max = X[:, 1].min() - .1, X[:, 1].max() + .1\n",
        "    xx, yy = np.meshgrid(np.linspace(x_min, x_max, 100),\n",
        "                         np.linspace(y_min, y_max, 100))\n",
        "    Z = knn.predict(np.c_[xx.ravel(), yy.ravel()])\n",
        "\n",
        "    # Put the result into a color plot\n",
        "    Z = Z.reshape(xx.shape)\n",
        "    pl.figure()\n",
        "    pl.pcolormesh(xx, yy, Z, cmap=cmap_light)\n",
        "\n",
        "    # Plot also the training points\n",
        "    pl.scatter(X[:, 0], X[:, 1], c=y, cmap=cmap_bold)\n",
        "    pl.xlabel('alcohol')\n",
        "    pl.ylabel('malic acid')\n",
        "    pl.axis('tight')"
      ],
      "metadata": {
        "id": "esfMWp8TLvbn"
      },
      "execution_count": 72,
      "outputs": []
    },
    {
      "cell_type": "code",
      "source": [
        "wine.feature_names"
      ],
      "metadata": {
        "colab": {
          "base_uri": "https://localhost:8080/"
        },
        "id": "glp4gt_oMKte",
        "outputId": "7391e100-475b-40b4-ef39-52b6d2e476a7"
      },
      "execution_count": 73,
      "outputs": [
        {
          "output_type": "execute_result",
          "data": {
            "text/plain": [
              "['alcohol',\n",
              " 'malic_acid',\n",
              " 'ash',\n",
              " 'alcalinity_of_ash',\n",
              " 'magnesium',\n",
              " 'total_phenols',\n",
              " 'flavanoids',\n",
              " 'nonflavanoid_phenols',\n",
              " 'proanthocyanins',\n",
              " 'color_intensity',\n",
              " 'hue',\n",
              " 'od280/od315_of_diluted_wines',\n",
              " 'proline']"
            ]
          },
          "metadata": {},
          "execution_count": 73
        }
      ]
    },
    {
      "cell_type": "code",
      "source": [
        "plot_wine_knn()"
      ],
      "metadata": {
        "colab": {
          "base_uri": "https://localhost:8080/",
          "height": 363
        },
        "id": "EJZ9cu9BMMSu",
        "outputId": "e48cab13-e4c9-4830-d09e-7ad2b3a0cc6a"
      },
      "execution_count": 74,
      "outputs": [
        {
          "output_type": "display_data",
          "data": {
            "text/plain": [
              "<Figure size 576x396 with 1 Axes>"
            ],
            "image/png": "[encoded data removed]"
          },
          "metadata": {}
        }
      ]
    },
    {
      "cell_type": "markdown",
      "source": [
        "This is very messy, so I have chosen to use dimensionality reduction in attempt to identify more distinct categories"
      ],
      "metadata": {
        "id": "R5qZJRmDVjX3"
      }
    },
    {
      "cell_type": "code",
      "source": [
        "from sklearn.decomposition import PCA #import the PCA model from the decomposition model collection. Same syntax as before, but we don't have a y!\n",
        "pca = PCA(n_components=2) # Create PCA model. Need to specify number of components. We will use 2, in order to be able to plot them in 2D space. n_components is a hyperparameter of the PCA model \n",
        "pca.fit(X)\n",
        "X_reduced = pca.transform(X) #Dimensionality reduction models have a special function called transform, where you transform the data into the new 2 dimensions from the old 4. This changes the shape of your data!\n",
        "print(\"Original dataset shape:\",X.shape, \"Reduced dataset shape:\", X_reduced.shape)"
      ],
      "metadata": {
        "colab": {
          "base_uri": "https://localhost:8080/"
        },
        "id": "AzwAe4LeUZQm",
        "outputId": "5d6db327-7d45-41f4-b9c0-1637cbb0370c"
      },
      "execution_count": 140,
      "outputs": [
        {
          "output_type": "stream",
          "name": "stdout",
          "text": [
            "Original dataset shape: (178, 13) Reduced dataset shape: (178, 2)\n"
          ]
        }
      ]
    },
    {
      "cell_type": "code",
      "source": [
        "import pandas as pd\n",
        "pd.DataFrame(X)"
      ],
      "metadata": {
        "colab": {
          "base_uri": "https://localhost:8080/",
          "height": 424
        },
        "id": "FYZ2LFbbUhDT",
        "outputId": "db161aaa-7dd5-4fd8-c054-4412c149bf7c"
      },
      "execution_count": 141,
      "outputs": [
        {
          "output_type": "execute_result",
          "data": {
            "text/plain": [
              "        0     1     2     3      4     5     6     7     8      9     10  \\\n",
              "0    14.23  1.71  2.43  15.6  127.0  2.80  3.06  0.28  2.29   5.64  1.04   \n",
              "1    13.20  1.78  2.14  11.2  100.0  2.65  2.76  0.26  1.28   4.38  1.05   \n",
              "2    13.16  2.36  2.67  18.6  101.0  2.80  3.24  0.30  2.81   5.68  1.03   \n",
              "3    14.37  1.95  2.50  16.8  113.0  3.85  3.49  0.24  2.18   7.80  0.86   \n",
              "4    13.24  2.59  2.87  21.0  118.0  2.80  2.69  0.39  1.82   4.32  1.04   \n",
              "..     ...   ...   ...   ...    ...   ...   ...   ...   ...    ...   ...   \n",
              "173  13.71  5.65  2.45  20.5   95.0  1.68  0.61  0.52  1.06   7.70  0.64   \n",
              "174  13.40  3.91  2.48  23.0  102.0  1.80  0.75  0.43  1.41   7.30  0.70   \n",
              "175  13.27  4.28  2.26  20.0  120.0  1.59  0.69  0.43  1.35  10.20  0.59   \n",
              "176  13.17  2.59  2.37  20.0  120.0  1.65  0.68  0.53  1.46   9.30  0.60   \n",
              "177  14.13  4.10  2.74  24.5   96.0  2.05  0.76  0.56  1.35   9.20  0.61   \n",
              "\n",
              "       11      12  \n",
              "0    3.92  1065.0  \n",
              "1    3.40  1050.0  \n",
              "2    3.17  1185.0  \n",
              "3    3.45  1480.0  \n",
              "4    2.93   735.0  \n",
              "..    ...     ...  \n",
              "173  1.74   740.0  \n",
              "174  1.56   750.0  \n",
              "175  1.56   835.0  \n",
              "176  1.62   840.0  \n",
              "177  1.60   560.0  \n",
              "\n",
              "[178 rows x 13 columns]"
            ],
            "text/html": [
              "\n",
              "  <div id=\"df-fd4efc2f-04e4-450b-8392-e4d8c0586f72\">\n",
              "    <div class=\"colab-df-container\">\n",
              "      <div>\n",
              "<style scoped>\n",
              "    .dataframe tbody tr th:only-of-type {\n",
              "        vertical-align: middle;\n",
              "    }\n",
              "\n",
              "    .dataframe tbody tr th {\n",
              "        vertical-align: top;\n",
              "    }\n",
              "\n",
              "    .dataframe thead th {\n",
              "        text-align: right;\n",
              "    }\n",
              "</style>\n",
              "<table border=\"1\" class=\"dataframe\">\n",
              "  <thead>\n",
              "    <tr style=\"text-align: right;\">\n",
              "      <th></th>\n",
              "      <th>0</th>\n",
              "      <th>1</th>\n",
              "      <th>2</th>\n",
              "      <th>3</th>\n",
              "      <th>4</th>\n",
              "      <th>5</th>\n",
              "      <th>6</th>\n",
              "      <th>7</th>\n",
              "      <th>8</th>\n",
              "      <th>9</th>\n",
              "      <th>10</th>\n",
              "      <th>11</th>\n",
              "      <th>12</th>\n",
              "    </tr>\n",
              "  </thead>\n",
              "  <tbody>\n",
              "    <tr>\n",
              "      <th>0</th>\n",
              "      <td>14.23</td>\n",
              "      <td>1.71</td>\n",
              "      <td>2.43</td>\n",
              "      <td>15.6</td>\n",
              "      <td>127.0</td>\n",
              "      <td>2.80</td>\n",
              "      <td>3.06</td>\n",
              "      <td>0.28</td>\n",
              "      <td>2.29</td>\n",
              "      <td>5.64</td>\n",
              "      <td>1.04</td>\n",
              "      <td>3.92</td>\n",
              "      <td>1065.0</td>\n",
              "    </tr>\n",
              "    <tr>\n",
              "      <th>1</th>\n",
              "      <td>13.20</td>\n",
              "      <td>1.78</td>\n",
              "      <td>2.14</td>\n",
              "      <td>11.2</td>\n",
              "      <td>100.0</td>\n",
              "      <td>2.65</td>\n",
              "      <td>2.76</td>\n",
              "      <td>0.26</td>\n",
              "      <td>1.28</td>\n",
              "      <td>4.38</td>\n",
              "      <td>1.05</td>\n",
              "      <td>3.40</td>\n",
              "      <td>1050.0</td>\n",
              "    </tr>\n",
              "    <tr>\n",
              "      <th>2</th>\n",
              "      <td>13.16</td>\n",
              "      <td>2.36</td>\n",
              "      <td>2.67</td>\n",
              "      <td>18.6</td>\n",
              "      <td>101.0</td>\n",
              "      <td>2.80</td>\n",
              "      <td>3.24</td>\n",
              "      <td>0.30</td>\n",
              "      <td>2.81</td>\n",
              "      <td>5.68</td>\n",
              "      <td>1.03</td>\n",
              "      <td>3.17</td>\n",
              "      <td>1185.0</td>\n",
              "    </tr>\n",
              "    <tr>\n",
              "      <th>3</th>\n",
              "      <td>14.37</td>\n",
              "      <td>1.95</td>\n",
              "      <td>2.50</td>\n",
              "      <td>16.8</td>\n",
              "      <td>113.0</td>\n",
              "      <td>3.85</td>\n",
              "      <td>3.49</td>\n",
              "      <td>0.24</td>\n",
              "      <td>2.18</td>\n",
              "      <td>7.80</td>\n",
              "      <td>0.86</td>\n",
              "      <td>3.45</td>\n",
              "      <td>1480.0</td>\n",
              "    </tr>\n",
              "    <tr>\n",
              "      <th>4</th>\n",
              "      <td>13.24</td>\n",
              "      <td>2.59</td>\n",
              "      <td>2.87</td>\n",
              "      <td>21.0</td>\n",
              "      <td>118.0</td>\n",
              "      <td>2.80</td>\n",
              "      <td>2.69</td>\n",
              "      <td>0.39</td>\n",
              "      <td>1.82</td>\n",
              "      <td>4.32</td>\n",
              "      <td>1.04</td>\n",
              "      <td>2.93</td>\n",
              "      <td>735.0</td>\n",
              "    </tr>\n",
              "    <tr>\n",
              "      <th>...</th>\n",
              "      <td>...</td>\n",
              "      <td>...</td>\n",
              "      <td>...</td>\n",
              "      <td>...</td>\n",
              "      <td>...</td>\n",
              "      <td>...</td>\n",
              "      <td>...</td>\n",
              "      <td>...</td>\n",
              "      <td>...</td>\n",
              "      <td>...</td>\n",
              "      <td>...</td>\n",
              "      <td>...</td>\n",
              "      <td>...</td>\n",
              "    </tr>\n",
              "    <tr>\n",
              "      <th>173</th>\n",
              "      <td>13.71</td>\n",
              "      <td>5.65</td>\n",
              "      <td>2.45</td>\n",
              "      <td>20.5</td>\n",
              "      <td>95.0</td>\n",
              "      <td>1.68</td>\n",
              "      <td>0.61</td>\n",
              "      <td>0.52</td>\n",
              "      <td>1.06</td>\n",
              "      <td>7.70</td>\n",
              "      <td>0.64</td>\n",
              "      <td>1.74</td>\n",
              "      <td>740.0</td>\n",
              "    </tr>\n",
              "    <tr>\n",
              "      <th>174</th>\n",
              "      <td>13.40</td>\n",
              "      <td>3.91</td>\n",
              "      <td>2.48</td>\n",
              "      <td>23.0</td>\n",
              "      <td>102.0</td>\n",
              "      <td>1.80</td>\n",
              "      <td>0.75</td>\n",
              "      <td>0.43</td>\n",
              "      <td>1.41</td>\n",
              "      <td>7.30</td>\n",
              "      <td>0.70</td>\n",
              "      <td>1.56</td>\n",
              "      <td>750.0</td>\n",
              "    </tr>\n",
              "    <tr>\n",
              "      <th>175</th>\n",
              "      <td>13.27</td>\n",
              "      <td>4.28</td>\n",
              "      <td>2.26</td>\n",
              "      <td>20.0</td>\n",
              "      <td>120.0</td>\n",
              "      <td>1.59</td>\n",
              "      <td>0.69</td>\n",
              "      <td>0.43</td>\n",
              "      <td>1.35</td>\n",
              "      <td>10.20</td>\n",
              "      <td>0.59</td>\n",
              "      <td>1.56</td>\n",
              "      <td>835.0</td>\n",
              "    </tr>\n",
              "    <tr>\n",
              "      <th>176</th>\n",
              "      <td>13.17</td>\n",
              "      <td>2.59</td>\n",
              "      <td>2.37</td>\n",
              "      <td>20.0</td>\n",
              "      <td>120.0</td>\n",
              "      <td>1.65</td>\n",
              "      <td>0.68</td>\n",
              "      <td>0.53</td>\n",
              "      <td>1.46</td>\n",
              "      <td>9.30</td>\n",
              "      <td>0.60</td>\n",
              "      <td>1.62</td>\n",
              "      <td>840.0</td>\n",
              "    </tr>\n",
              "    <tr>\n",
              "      <th>177</th>\n",
              "      <td>14.13</td>\n",
              "      <td>4.10</td>\n",
              "      <td>2.74</td>\n",
              "      <td>24.5</td>\n",
              "      <td>96.0</td>\n",
              "      <td>2.05</td>\n",
              "      <td>0.76</td>\n",
              "      <td>0.56</td>\n",
              "      <td>1.35</td>\n",
              "      <td>9.20</td>\n",
              "      <td>0.61</td>\n",
              "      <td>1.60</td>\n",
              "      <td>560.0</td>\n",
              "    </tr>\n",
              "  </tbody>\n",
              "</table>\n",
              "<p>178 rows × 13 columns</p>\n",
              "</div>\n",
              "      <button class=\"colab-df-convert\" onclick=\"convertToInteractive('df-fd4efc2f-04e4-450b-8392-e4d8c0586f72')\"\n",
              "              title=\"Convert this dataframe to an interactive table.\"\n",
              "              style=\"display:none;\">\n",
              "        \n",
              "  <svg xmlns=\"http://www.w3.org/2000/svg\" height=\"24px\"viewBox=\"0 0 24 24\"\n",
              "       width=\"24px\">\n",
              "    <path d=\"M0 0h24v24H0V0z\" fill=\"none\"/>\n",
              "    <path d=\"M18.56 5.44l.94 2.06.94-2.06 2.06-.94-2.06-.94-.94-2.06-.94 2.06-2.06.94zm-11 1L8.5 8.5l.94-2.06 2.06-.94-2.06-.94L8.5 2.5l-.94 2.06-2.06.94zm10 10l.94 2.06.94-2.06 2.06-.94-2.06-.94-.94-2.06-.94 2.06-2.06.94z\"/><path d=\"M17.41 7.96l-1.37-1.37c-.4-.4-.92-.59-1.43-.59-.52 0-1.04.2-1.43.59L10.3 9.45l-7.72 7.72c-.78.78-.78 2.05 0 2.83L4 21.41c.39.39.9.59 1.41.59.51 0 1.02-.2 1.41-.59l7.78-7.78 2.81-2.81c.8-.78.8-2.07 0-2.86zM5.41 20L4 18.59l7.72-7.72 1.47 1.35L5.41 20z\"/>\n",
              "  </svg>\n",
              "      </button>\n",
              "      \n",
              "  <style>\n",
              "    .colab-df-container {\n",
              "      display:flex;\n",
              "      flex-wrap:wrap;\n",
              "      gap: 12px;\n",
              "    }\n",
              "\n",
              "    .colab-df-convert {\n",
              "      background-color: #E8F0FE;\n",
              "      border: none;\n",
              "      border-radius: 50%;\n",
              "      cursor: pointer;\n",
              "      display: none;\n",
              "      fill: #1967D2;\n",
              "      height: 32px;\n",
              "      padding: 0 0 0 0;\n",
              "      width: 32px;\n",
              "    }\n",
              "\n",
              "    .colab-df-convert:hover {\n",
              "      background-color: #E2EBFA;\n",
              "      box-shadow: 0px 1px 2px rgba(60, 64, 67, 0.3), 0px 1px 3px 1px rgba(60, 64, 67, 0.15);\n",
              "      fill: #174EA6;\n",
              "    }\n",
              "\n",
              "    [theme=dark] .colab-df-convert {\n",
              "      background-color: #3B4455;\n",
              "      fill: #D2E3FC;\n",
              "    }\n",
              "\n",
              "    [theme=dark] .colab-df-convert:hover {\n",
              "      background-color: #434B5C;\n",
              "      box-shadow: 0px 1px 3px 1px rgba(0, 0, 0, 0.15);\n",
              "      filter: drop-shadow(0px 1px 2px rgba(0, 0, 0, 0.3));\n",
              "      fill: #FFFFFF;\n",
              "    }\n",
              "  </style>\n",
              "\n",
              "      <script>\n",
              "        const buttonEl =\n",
              "          document.querySelector('#df-fd4efc2f-04e4-450b-8392-e4d8c0586f72 button.colab-df-convert');\n",
              "        buttonEl.style.display =\n",
              "          google.colab.kernel.accessAllowed ? 'block' : 'none';\n",
              "\n",
              "        async function convertToInteractive(key) {\n",
              "          const element = document.querySelector('#df-fd4efc2f-04e4-450b-8392-e4d8c0586f72');\n",
              "          const dataTable =\n",
              "            await google.colab.kernel.invokeFunction('convertToInteractive',\n",
              "                                                     [key], {});\n",
              "          if (!dataTable) return;\n",
              "\n",
              "          const docLinkHtml = 'Like what you see? Visit the ' +\n",
              "            '<a target=\"_blank\" href=https://colab.research.google.com/notebooks/data_table.ipynb>data table notebook</a>'\n",
              "            + ' to learn more about interactive tables.';\n",
              "          element.innerHTML = '';\n",
              "          dataTable['output_type'] = 'display_data';\n",
              "          await google.colab.output.renderOutput(dataTable, element);\n",
              "          const docLink = document.createElement('div');\n",
              "          docLink.innerHTML = docLinkHtml;\n",
              "          element.appendChild(docLink);\n",
              "        }\n",
              "      </script>\n",
              "    </div>\n",
              "  </div>\n",
              "  "
            ]
          },
          "metadata": {},
          "execution_count": 141
        }
      ]
    },
    {
      "cell_type": "code",
      "source": [
        "pd.DataFrame(X_reduced)"
      ],
      "metadata": {
        "colab": {
          "base_uri": "https://localhost:8080/",
          "height": 424
        },
        "id": "Jf3FotP-Ujd-",
        "outputId": "311c04d2-a78e-4d65-f475-ccdd8ad25230"
      },
      "execution_count": 142,
      "outputs": [
        {
          "output_type": "execute_result",
          "data": {
            "text/plain": [
              "              0          1\n",
              "0    318.562979  21.492131\n",
              "1    303.097420  -5.364718\n",
              "2    438.061133  -6.537309\n",
              "3    733.240139   0.192729\n",
              "4    -11.571428  18.489995\n",
              "..          ...        ...\n",
              "173   -6.980211  -4.541137\n",
              "174    3.131605   2.335191\n",
              "175   88.458074  18.776285\n",
              "176   93.456242  18.670819\n",
              "177 -186.943190  -0.213331\n",
              "\n",
              "[178 rows x 2 columns]"
            ],
            "text/html": [
              "\n",
              "  <div id=\"df-6bdc203c-74cf-474d-991c-ca405492d9a6\">\n",
              "    <div class=\"colab-df-container\">\n",
              "      <div>\n",
              "<style scoped>\n",
              "    .dataframe tbody tr th:only-of-type {\n",
              "        vertical-align: middle;\n",
              "    }\n",
              "\n",
              "    .dataframe tbody tr th {\n",
              "        vertical-align: top;\n",
              "    }\n",
              "\n",
              "    .dataframe thead th {\n",
              "        text-align: right;\n",
              "    }\n",
              "</style>\n",
              "<table border=\"1\" class=\"dataframe\">\n",
              "  <thead>\n",
              "    <tr style=\"text-align: right;\">\n",
              "      <th></th>\n",
              "      <th>0</th>\n",
              "      <th>1</th>\n",
              "    </tr>\n",
              "  </thead>\n",
              "  <tbody>\n",
              "    <tr>\n",
              "      <th>0</th>\n",
              "      <td>318.562979</td>\n",
              "      <td>21.492131</td>\n",
              "    </tr>\n",
              "    <tr>\n",
              "      <th>1</th>\n",
              "      <td>303.097420</td>\n",
              "      <td>-5.364718</td>\n",
              "    </tr>\n",
              "    <tr>\n",
              "      <th>2</th>\n",
              "      <td>438.061133</td>\n",
              "      <td>-6.537309</td>\n",
              "    </tr>\n",
              "    <tr>\n",
              "      <th>3</th>\n",
              "      <td>733.240139</td>\n",
              "      <td>0.192729</td>\n",
              "    </tr>\n",
              "    <tr>\n",
              "      <th>4</th>\n",
              "      <td>-11.571428</td>\n",
              "      <td>18.489995</td>\n",
              "    </tr>\n",
              "    <tr>\n",
              "      <th>...</th>\n",
              "      <td>...</td>\n",
              "      <td>...</td>\n",
              "    </tr>\n",
              "    <tr>\n",
              "      <th>173</th>\n",
              "      <td>-6.980211</td>\n",
              "      <td>-4.541137</td>\n",
              "    </tr>\n",
              "    <tr>\n",
              "      <th>174</th>\n",
              "      <td>3.131605</td>\n",
              "      <td>2.335191</td>\n",
              "    </tr>\n",
              "    <tr>\n",
              "      <th>175</th>\n",
              "      <td>88.458074</td>\n",
              "      <td>18.776285</td>\n",
              "    </tr>\n",
              "    <tr>\n",
              "      <th>176</th>\n",
              "      <td>93.456242</td>\n",
              "      <td>18.670819</td>\n",
              "    </tr>\n",
              "    <tr>\n",
              "      <th>177</th>\n",
              "      <td>-186.943190</td>\n",
              "      <td>-0.213331</td>\n",
              "    </tr>\n",
              "  </tbody>\n",
              "</table>\n",
              "<p>178 rows × 2 columns</p>\n",
              "</div>\n",
              "      <button class=\"colab-df-convert\" onclick=\"convertToInteractive('df-6bdc203c-74cf-474d-991c-ca405492d9a6')\"\n",
              "              title=\"Convert this dataframe to an interactive table.\"\n",
              "              style=\"display:none;\">\n",
              "        \n",
              "  <svg xmlns=\"http://www.w3.org/2000/svg\" height=\"24px\"viewBox=\"0 0 24 24\"\n",
              "       width=\"24px\">\n",
              "    <path d=\"M0 0h24v24H0V0z\" fill=\"none\"/>\n",
              "    <path d=\"M18.56 5.44l.94 2.06.94-2.06 2.06-.94-2.06-.94-.94-2.06-.94 2.06-2.06.94zm-11 1L8.5 8.5l.94-2.06 2.06-.94-2.06-.94L8.5 2.5l-.94 2.06-2.06.94zm10 10l.94 2.06.94-2.06 2.06-.94-2.06-.94-.94-2.06-.94 2.06-2.06.94z\"/><path d=\"M17.41 7.96l-1.37-1.37c-.4-.4-.92-.59-1.43-.59-.52 0-1.04.2-1.43.59L10.3 9.45l-7.72 7.72c-.78.78-.78 2.05 0 2.83L4 21.41c.39.39.9.59 1.41.59.51 0 1.02-.2 1.41-.59l7.78-7.78 2.81-2.81c.8-.78.8-2.07 0-2.86zM5.41 20L4 18.59l7.72-7.72 1.47 1.35L5.41 20z\"/>\n",
              "  </svg>\n",
              "      </button>\n",
              "      \n",
              "  <style>\n",
              "    .colab-df-container {\n",
              "      display:flex;\n",
              "      flex-wrap:wrap;\n",
              "      gap: 12px;\n",
              "    }\n",
              "\n",
              "    .colab-df-convert {\n",
              "      background-color: #E8F0FE;\n",
              "      border: none;\n",
              "      border-radius: 50%;\n",
              "      cursor: pointer;\n",
              "      display: none;\n",
              "      fill: #1967D2;\n",
              "      height: 32px;\n",
              "      padding: 0 0 0 0;\n",
              "      width: 32px;\n",
              "    }\n",
              "\n",
              "    .colab-df-convert:hover {\n",
              "      background-color: #E2EBFA;\n",
              "      box-shadow: 0px 1px 2px rgba(60, 64, 67, 0.3), 0px 1px 3px 1px rgba(60, 64, 67, 0.15);\n",
              "      fill: #174EA6;\n",
              "    }\n",
              "\n",
              "    [theme=dark] .colab-df-convert {\n",
              "      background-color: #3B4455;\n",
              "      fill: #D2E3FC;\n",
              "    }\n",
              "\n",
              "    [theme=dark] .colab-df-convert:hover {\n",
              "      background-color: #434B5C;\n",
              "      box-shadow: 0px 1px 3px 1px rgba(0, 0, 0, 0.15);\n",
              "      filter: drop-shadow(0px 1px 2px rgba(0, 0, 0, 0.3));\n",
              "      fill: #FFFFFF;\n",
              "    }\n",
              "  </style>\n",
              "\n",
              "      <script>\n",
              "        const buttonEl =\n",
              "          document.querySelector('#df-6bdc203c-74cf-474d-991c-ca405492d9a6 button.colab-df-convert');\n",
              "        buttonEl.style.display =\n",
              "          google.colab.kernel.accessAllowed ? 'block' : 'none';\n",
              "\n",
              "        async function convertToInteractive(key) {\n",
              "          const element = document.querySelector('#df-6bdc203c-74cf-474d-991c-ca405492d9a6');\n",
              "          const dataTable =\n",
              "            await google.colab.kernel.invokeFunction('convertToInteractive',\n",
              "                                                     [key], {});\n",
              "          if (!dataTable) return;\n",
              "\n",
              "          const docLinkHtml = 'Like what you see? Visit the ' +\n",
              "            '<a target=\"_blank\" href=https://colab.research.google.com/notebooks/data_table.ipynb>data table notebook</a>'\n",
              "            + ' to learn more about interactive tables.';\n",
              "          element.innerHTML = '';\n",
              "          dataTable['output_type'] = 'display_data';\n",
              "          await google.colab.output.renderOutput(dataTable, element);\n",
              "          const docLink = document.createElement('div');\n",
              "          docLink.innerHTML = docLinkHtml;\n",
              "          element.appendChild(docLink);\n",
              "        }\n",
              "      </script>\n",
              "    </div>\n",
              "  </div>\n",
              "  "
            ]
          },
          "metadata": {},
          "execution_count": 142
        }
      ]
    },
    {
      "cell_type": "markdown",
      "source": [
        "I want to get the table into a form that captures the class. To do this, I add 'y' into the DataFrame"
      ],
      "metadata": {
        "id": "EWAVoylFES00"
      }
    },
    {
      "cell_type": "code",
      "source": [
        "pd.DataFrame(X_reduced,y)"
      ],
      "metadata": {
        "colab": {
          "base_uri": "https://localhost:8080/",
          "height": 424
        },
        "id": "Jh7D3kFPDMKN",
        "outputId": "f2290863-b11e-495d-8a48-0317bfb55a0e"
      },
      "execution_count": 143,
      "outputs": [
        {
          "output_type": "execute_result",
          "data": {
            "text/plain": [
              "             0          1\n",
              "0   318.562979  21.492131\n",
              "0   303.097420  -5.364718\n",
              "0   438.061133  -6.537309\n",
              "0   733.240139   0.192729\n",
              "0   -11.571428  18.489995\n",
              "..         ...        ...\n",
              "2    -6.980211  -4.541137\n",
              "2     3.131605   2.335191\n",
              "2    88.458074  18.776285\n",
              "2    93.456242  18.670819\n",
              "2  -186.943190  -0.213331\n",
              "\n",
              "[178 rows x 2 columns]"
            ],
            "text/html": [
              "\n",
              "  <div id=\"df-4d641d93-5c4e-4c73-8c37-fdbd8d95bb39\">\n",
              "    <div class=\"colab-df-container\">\n",
              "      <div>\n",
              "<style scoped>\n",
              "    .dataframe tbody tr th:only-of-type {\n",
              "        vertical-align: middle;\n",
              "    }\n",
              "\n",
              "    .dataframe tbody tr th {\n",
              "        vertical-align: top;\n",
              "    }\n",
              "\n",
              "    .dataframe thead th {\n",
              "        text-align: right;\n",
              "    }\n",
              "</style>\n",
              "<table border=\"1\" class=\"dataframe\">\n",
              "  <thead>\n",
              "    <tr style=\"text-align: right;\">\n",
              "      <th></th>\n",
              "      <th>0</th>\n",
              "      <th>1</th>\n",
              "    </tr>\n",
              "  </thead>\n",
              "  <tbody>\n",
              "    <tr>\n",
              "      <th>0</th>\n",
              "      <td>318.562979</td>\n",
              "      <td>21.492131</td>\n",
              "    </tr>\n",
              "    <tr>\n",
              "      <th>0</th>\n",
              "      <td>303.097420</td>\n",
              "      <td>-5.364718</td>\n",
              "    </tr>\n",
              "    <tr>\n",
              "      <th>0</th>\n",
              "      <td>438.061133</td>\n",
              "      <td>-6.537309</td>\n",
              "    </tr>\n",
              "    <tr>\n",
              "      <th>0</th>\n",
              "      <td>733.240139</td>\n",
              "      <td>0.192729</td>\n",
              "    </tr>\n",
              "    <tr>\n",
              "      <th>0</th>\n",
              "      <td>-11.571428</td>\n",
              "      <td>18.489995</td>\n",
              "    </tr>\n",
              "    <tr>\n",
              "      <th>...</th>\n",
              "      <td>...</td>\n",
              "      <td>...</td>\n",
              "    </tr>\n",
              "    <tr>\n",
              "      <th>2</th>\n",
              "      <td>-6.980211</td>\n",
              "      <td>-4.541137</td>\n",
              "    </tr>\n",
              "    <tr>\n",
              "      <th>2</th>\n",
              "      <td>3.131605</td>\n",
              "      <td>2.335191</td>\n",
              "    </tr>\n",
              "    <tr>\n",
              "      <th>2</th>\n",
              "      <td>88.458074</td>\n",
              "      <td>18.776285</td>\n",
              "    </tr>\n",
              "    <tr>\n",
              "      <th>2</th>\n",
              "      <td>93.456242</td>\n",
              "      <td>18.670819</td>\n",
              "    </tr>\n",
              "    <tr>\n",
              "      <th>2</th>\n",
              "      <td>-186.943190</td>\n",
              "      <td>-0.213331</td>\n",
              "    </tr>\n",
              "  </tbody>\n",
              "</table>\n",
              "<p>178 rows × 2 columns</p>\n",
              "</div>\n",
              "      <button class=\"colab-df-convert\" onclick=\"convertToInteractive('df-4d641d93-5c4e-4c73-8c37-fdbd8d95bb39')\"\n",
              "              title=\"Convert this dataframe to an interactive table.\"\n",
              "              style=\"display:none;\">\n",
              "        \n",
              "  <svg xmlns=\"http://www.w3.org/2000/svg\" height=\"24px\"viewBox=\"0 0 24 24\"\n",
              "       width=\"24px\">\n",
              "    <path d=\"M0 0h24v24H0V0z\" fill=\"none\"/>\n",
              "    <path d=\"M18.56 5.44l.94 2.06.94-2.06 2.06-.94-2.06-.94-.94-2.06-.94 2.06-2.06.94zm-11 1L8.5 8.5l.94-2.06 2.06-.94-2.06-.94L8.5 2.5l-.94 2.06-2.06.94zm10 10l.94 2.06.94-2.06 2.06-.94-2.06-.94-.94-2.06-.94 2.06-2.06.94z\"/><path d=\"M17.41 7.96l-1.37-1.37c-.4-.4-.92-.59-1.43-.59-.52 0-1.04.2-1.43.59L10.3 9.45l-7.72 7.72c-.78.78-.78 2.05 0 2.83L4 21.41c.39.39.9.59 1.41.59.51 0 1.02-.2 1.41-.59l7.78-7.78 2.81-2.81c.8-.78.8-2.07 0-2.86zM5.41 20L4 18.59l7.72-7.72 1.47 1.35L5.41 20z\"/>\n",
              "  </svg>\n",
              "      </button>\n",
              "      \n",
              "  <style>\n",
              "    .colab-df-container {\n",
              "      display:flex;\n",
              "      flex-wrap:wrap;\n",
              "      gap: 12px;\n",
              "    }\n",
              "\n",
              "    .colab-df-convert {\n",
              "      background-color: #E8F0FE;\n",
              "      border: none;\n",
              "      border-radius: 50%;\n",
              "      cursor: pointer;\n",
              "      display: none;\n",
              "      fill: #1967D2;\n",
              "      height: 32px;\n",
              "      padding: 0 0 0 0;\n",
              "      width: 32px;\n",
              "    }\n",
              "\n",
              "    .colab-df-convert:hover {\n",
              "      background-color: #E2EBFA;\n",
              "      box-shadow: 0px 1px 2px rgba(60, 64, 67, 0.3), 0px 1px 3px 1px rgba(60, 64, 67, 0.15);\n",
              "      fill: #174EA6;\n",
              "    }\n",
              "\n",
              "    [theme=dark] .colab-df-convert {\n",
              "      background-color: #3B4455;\n",
              "      fill: #D2E3FC;\n",
              "    }\n",
              "\n",
              "    [theme=dark] .colab-df-convert:hover {\n",
              "      background-color: #434B5C;\n",
              "      box-shadow: 0px 1px 3px 1px rgba(0, 0, 0, 0.15);\n",
              "      filter: drop-shadow(0px 1px 2px rgba(0, 0, 0, 0.3));\n",
              "      fill: #FFFFFF;\n",
              "    }\n",
              "  </style>\n",
              "\n",
              "      <script>\n",
              "        const buttonEl =\n",
              "          document.querySelector('#df-4d641d93-5c4e-4c73-8c37-fdbd8d95bb39 button.colab-df-convert');\n",
              "        buttonEl.style.display =\n",
              "          google.colab.kernel.accessAllowed ? 'block' : 'none';\n",
              "\n",
              "        async function convertToInteractive(key) {\n",
              "          const element = document.querySelector('#df-4d641d93-5c4e-4c73-8c37-fdbd8d95bb39');\n",
              "          const dataTable =\n",
              "            await google.colab.kernel.invokeFunction('convertToInteractive',\n",
              "                                                     [key], {});\n",
              "          if (!dataTable) return;\n",
              "\n",
              "          const docLinkHtml = 'Like what you see? Visit the ' +\n",
              "            '<a target=\"_blank\" href=https://colab.research.google.com/notebooks/data_table.ipynb>data table notebook</a>'\n",
              "            + ' to learn more about interactive tables.';\n",
              "          element.innerHTML = '';\n",
              "          dataTable['output_type'] = 'display_data';\n",
              "          await google.colab.output.renderOutput(dataTable, element);\n",
              "          const docLink = document.createElement('div');\n",
              "          docLink.innerHTML = docLinkHtml;\n",
              "          element.appendChild(docLink);\n",
              "        }\n",
              "      </script>\n",
              "    </div>\n",
              "  </div>\n",
              "  "
            ]
          },
          "metadata": {},
          "execution_count": 143
        }
      ]
    },
    {
      "cell_type": "code",
      "source": [
        "print(y)"
      ],
      "metadata": {
        "colab": {
          "base_uri": "https://localhost:8080/"
        },
        "id": "06msCykZElIf",
        "outputId": "8d511afc-6621-4b5a-a367-7a580fcdbc89"
      },
      "execution_count": 148,
      "outputs": [
        {
          "output_type": "stream",
          "name": "stdout",
          "text": [
            "[0 0 0 0 0 0 0 0 0 0 0 0 0 0 0 0 0 0 0 0 0 0 0 0 0 0 0 0 0 0 0 0 0 0 0 0 0\n",
            " 0 0 0 0 0 0 0 0 0 0 0 0 0 0 0 0 0 0 0 0 0 0 1 1 1 1 1 1 1 1 1 1 1 1 1 1 1\n",
            " 1 1 1 1 1 1 1 1 1 1 1 1 1 1 1 1 1 1 1 1 1 1 1 1 1 1 1 1 1 1 1 1 1 1 1 1 1\n",
            " 1 1 1 1 1 1 1 1 1 1 1 1 1 1 1 1 1 1 1 2 2 2 2 2 2 2 2 2 2 2 2 2 2 2 2 2 2\n",
            " 2 2 2 2 2 2 2 2 2 2 2 2 2 2 2 2 2 2 2 2 2 2 2 2 2 2 2 2 2 2]\n"
          ]
        }
      ]
    },
    {
      "cell_type": "markdown",
      "source": [
        "This confirms that the three categories are 0, 1 and 2, as given by the first column in my above table. This will be important to have in the csv when Vega is reading it so that I can format the chart"
      ],
      "metadata": {
        "id": "279NfXaaEmDD"
      }
    },
    {
      "cell_type": "markdown",
      "source": [
        "I then converted this data into a csv format so that I could reproduce the graph in Vega to put into my Github"
      ],
      "metadata": {
        "id": "wJXjnMjCFCTZ"
      }
    },
    {
      "cell_type": "code",
      "source": [
        "pca.components_ "
      ],
      "metadata": {
        "colab": {
          "base_uri": "https://localhost:8080/"
        },
        "id": "ydqdTHLIUlxH",
        "outputId": "d1840784-75b3-4945-9007-b6a5b81d3b81"
      },
      "execution_count": 144,
      "outputs": [
        {
          "output_type": "execute_result",
          "data": {
            "text/plain": [
              "array([[ 1.65926472e-03, -6.81015556e-04,  1.94905742e-04,\n",
              "        -4.67130058e-03,  1.78680075e-02,  9.89829680e-04,\n",
              "         1.56728830e-03, -1.23086662e-04,  6.00607792e-04,\n",
              "         2.32714319e-03,  1.71380037e-04,  7.04931645e-04,\n",
              "         9.99822937e-01],\n",
              "       [ 1.20340617e-03,  2.15498184e-03,  4.59369254e-03,\n",
              "         2.64503930e-02,  9.99344186e-01,  8.77962152e-04,\n",
              "        -5.18507284e-05, -1.35447892e-03,  5.00440040e-03,\n",
              "         1.51003530e-02, -7.62673115e-04, -3.49536431e-03,\n",
              "        -1.77738095e-02]])"
            ]
          },
          "metadata": {},
          "execution_count": 144
        }
      ]
    },
    {
      "cell_type": "code",
      "source": [
        "wine.feature_names"
      ],
      "metadata": {
        "colab": {
          "base_uri": "https://localhost:8080/"
        },
        "id": "TIsIqz08Updq",
        "outputId": "6527747e-f852-47c1-d315-9e01db2d0806"
      },
      "execution_count": 145,
      "outputs": [
        {
          "output_type": "execute_result",
          "data": {
            "text/plain": [
              "['alcohol',\n",
              " 'malic_acid',\n",
              " 'ash',\n",
              " 'alcalinity_of_ash',\n",
              " 'magnesium',\n",
              " 'total_phenols',\n",
              " 'flavanoids',\n",
              " 'nonflavanoid_phenols',\n",
              " 'proanthocyanins',\n",
              " 'color_intensity',\n",
              " 'hue',\n",
              " 'od280/od315_of_diluted_wines',\n",
              " 'proline']"
            ]
          },
          "metadata": {},
          "execution_count": 145
        }
      ]
    },
    {
      "cell_type": "code",
      "source": [
        "import pylab as plt\n",
        "plt.scatter(X_reduced[:, 0], X_reduced[:, 1], c=y,\n",
        "           cmap='gist_rainbow')\n",
        "\n",
        "print(\"PCA is simple, linear model, so we can even construct the meaning of the 2 components (for other, more complex models this is not so straightforward):\")\n",
        "for component in pca.components_:\n",
        "    print(\" + \".join(\"%.3f x %s\" % (value, name)\n",
        "                     for value, name in zip(component,\n",
        "                                            wine.feature_names)))"
      ],
      "metadata": {
        "colab": {
          "base_uri": "https://localhost:8080/",
          "height": 421
        },
        "id": "FWtRiiGvUq-O",
        "outputId": "6e15625b-d18b-4ebb-8345-6feb56139c75"
      },
      "execution_count": 146,
      "outputs": [
        {
          "output_type": "stream",
          "name": "stdout",
          "text": [
            "PCA is simple, linear model, so we can even construct the meaning of the 2 components (for other, more complex models this is not so straightforward):\n",
            "0.002 x alcohol + -0.001 x malic_acid + 0.000 x ash + -0.005 x alcalinity_of_ash + 0.018 x magnesium + 0.001 x total_phenols + 0.002 x flavanoids + -0.000 x nonflavanoid_phenols + 0.001 x proanthocyanins + 0.002 x color_intensity + 0.000 x hue + 0.001 x od280/od315_of_diluted_wines + 1.000 x proline\n",
            "0.001 x alcohol + 0.002 x malic_acid + 0.005 x ash + 0.026 x alcalinity_of_ash + 0.999 x magnesium + 0.001 x total_phenols + -0.000 x flavanoids + -0.001 x nonflavanoid_phenols + 0.005 x proanthocyanins + 0.015 x color_intensity + -0.001 x hue + -0.003 x od280/od315_of_diluted_wines + -0.018 x proline\n"
          ]
        },
        {
          "output_type": "display_data",
          "data": {
            "text/plain": [
              "<Figure size 576x396 with 1 Axes>"
            ],
            "image/png": "[encoded data removed]"
          },
          "metadata": {}
        }
      ]
    },
    {
      "cell_type": "markdown",
      "source": [
        "I played around with formatting below, changing the markers to stars"
      ],
      "metadata": {
        "id": "ttOwOgILEegv"
      }
    },
    {
      "cell_type": "code",
      "source": [
        "import pylab as plt\n",
        "plt.scatter(X_reduced[:, 0], X_reduced[:, 1],c=y, marker=\"*\", cmap='gist_rainbow',linewidths=2)"
      ],
      "metadata": {
        "colab": {
          "base_uri": "https://localhost:8080/",
          "height": 365
        },
        "id": "TE0qBp9R_FGn",
        "outputId": "c763372e-3706-46f0-a7be-2c1c13ea8ea8"
      },
      "execution_count": 147,
      "outputs": [
        {
          "output_type": "execute_result",
          "data": {
            "text/plain": [
              "<matplotlib.collections.PathCollection at 0x7f3a0bba4d90>"
            ]
          },
          "metadata": {},
          "execution_count": 147
        },
        {
          "output_type": "display_data",
          "data": {
            "text/plain": [
              "<Figure size 576x396 with 1 Axes>"
            ],
            "image/png": "[encoded data removed]"
          },
          "metadata": {}
        }
      ]
    },
    {
      "cell_type": "code",
      "source": [
        "import pylab as plt\n",
        "plt.scatter(X_reduced[:, 0], X_reduced[:, 1])"
      ],
      "metadata": {
        "colab": {
          "base_uri": "https://localhost:8080/",
          "height": 365
        },
        "id": "towRqmJa_KBZ",
        "outputId": "dbbb2b96-4317-46c7-eb22-d04b1f6babba"
      },
      "execution_count": 149,
      "outputs": [
        {
          "output_type": "execute_result",
          "data": {
            "text/plain": [
              "<matplotlib.collections.PathCollection at 0x7f3a0b608b10>"
            ]
          },
          "metadata": {},
          "execution_count": 149
        },
        {
          "output_type": "display_data",
          "data": {
            "text/plain": [
              "<Figure size 576x396 with 1 Axes>"
            ],
            "image/png": "[encoded data removed]"
          },
          "metadata": {}
        }
      ]
    },
    {
      "cell_type": "markdown",
      "source": [
        "By removing the c and cmap from the scatter code, the plots lose their colour categorisation."
      ],
      "metadata": {
        "id": "ZSTbUZFGFG_q"
      }
    },
    {
      "cell_type": "code",
      "source": [
        "col_names = [\"Dimension Reduction Variable 1\", \"Dimension Reduction Variable 2\"]"
      ],
      "metadata": {
        "id": "zT6g-d_tZmej"
      },
      "execution_count": 150,
      "outputs": []
    },
    {
      "cell_type": "code",
      "source": [
        "from tabulate import tabulate"
      ],
      "metadata": {
        "id": "oHr-v0dJZ6X1"
      },
      "execution_count": 151,
      "outputs": []
    },
    {
      "cell_type": "code",
      "source": [
        "tabulate(X_reduced, headers=col_names)"
      ],
      "metadata": {
        "colab": {
          "base_uri": "https://localhost:8080/",
          "height": 214
        },
        "id": "AWz7uDBGZ8vT",
        "outputId": "6048a3a8-2bfb-4e59-8f1e-72cf0600ec04"
      },
      "execution_count": 152,
      "outputs": [
        {
          "output_type": "execute_result",
          "data": {
            "text/plain": [
              "'  Dimension Reduction Variable 1    Dimension Reduction Variable 2\\n--------------------------------  --------------------------------\\n                       318.563                          21.4921\\n                       303.097                          -5.36472\\n                       438.061                          -6.53731\\n                       733.24                            0.192729\\n                       -11.5714                         18.49\\n                       703.231                          -0.332159\\n                       542.972                         -13.519\\n                       548.402                          11.4494\\n                       298.037                          -8.18016\\n                       298.05                           -7.10154\\n                       763.08                           -8.33432\\n                       532.943                         -14.2876\\n                       572.834                         -21.005\\n                       402.925                         -16.1026\\n                       800.053                         -12.1184\\n                       563.246                           2.21483\\n                       533.38                           10.8048\\n                       383.318                           8.47742\\n                       933.118                          -8.35448\\n                        98.4032                         14.3927\\n                        33.5936                         25.568\\n                        23.1464                          1.81747\\n                       288.093                          -3.96304\\n                       267.982                          -9.5707\\n                        98.0199                         -5.49585\\n                        83.4987                         22.8916\\n                       447.926                         -14.7973\\n                       537.919                         -15.3883\\n                       168.21                            4.25531\\n                       288.008                          -8.95973\\n                       538.026                          -8.21274\\n                       768.093                          -7.3799\\n                       243.151                          -0.143915\\n                       488.601                          23.5653\\n                       348.231                           4.03808\\n                       173.08                           -2.79292\\n                       133.286                           7.77273\\n                       358.019                          -8.15798\\n                       273.044                          -6.72507\\n                        13.643                          27.8468\\n                        48.4296                         16.3219\\n                       287.884                         -14.8851\\n                       348.095                          -5.04343\\n                       -66.8147                          4.38483\\n                       138.227                           4.73069\\n                       333.255                           5.31933\\n                       318.112                          -3.48694\\n                       238.111                          -3.05152\\n                       313.12                           -2.30536\\n                       513.188                          -0.863759\\n                       402.939                         -15.0533\\n                       517.929                         -14.9976\\n                       443.266                           3.2605\\n                       628.286                           4.04115\\n                       313.398                          12.6089\\n                       373.333                           9.6642\\n                       223.417                          14.2169\\n                       523.073                          -7.09663\\n                       538.182                          -1.35678\\n                      -227.033                          -7.99497\\n                       -66.8501                          2.31987\\n                      -296.824                           5.46848\\n                      -116.97                           -3.72638\\n                      -327.059                          -6.94813\\n                      -391.752                          11.1717\\n                       -68.9058                         -0.558621\\n                      -245.213                         -17.4936\\n                      -237.241                         -17.531\\n                         3.29616                        10.0958\\n                       -27.9661                         51.6301\\n                       123.13                            1.05983\\n                      -337.104                          -7.62386\\n                      -275.096                          -7.75315\\n                       238.717                          35.2518\\n                       139.094                          -1.20748\\n                      -318.876                           2.81077\\n                      -355.06                           -7.5307\\n                      -246.634                          16.5584\\n                         3.77169                        36.0311\\n                      -283.842                           6.36186\\n                      -469.059                          -5.45892\\n                       -33.1313                        -13.1871\\n                      -117.29                          -19.5786\\n                      -232.133                         -10.5301\\n                      -226.953                          -1.77606\\n                      -296.852                           4.4528\\n                      -252.046                          -5.21262\\n                      -185.109                          -8.31858\\n                       -67.1808                        -14.5247\\n                      -122.431                         -27.504\\n                      -267.185                         -14.0539\\n                      -297.104                          -8.41503\\n                      -252.214                         -15.2516\\n                      -457.022                          -3.69734\\n                      -401.851                           5.3314\\n                       191.183                          58.7938\\n                      -121.279                          36.4175\\n                      -319.088                          -9.19308\\n                       -87.0803                        -10.2266\\n                      -341.041                          -5.75057\\n                       -36.9316                         -2.17042\\n                      -185.074                          -8.52052\\n                      -308.882                           3.75166\\n                      -332.089                          -7.88373\\n                       -75.1531                        -13.4138\\n                      -432.01                           -2.03295\\n                      -237.207                         -15.562\\n                      -259.148                         -11.0788\\n                      -434.958                          -0.059526\\n                       -66.9907                         -4.57146\\n                      -184.736                          10.5165\\n                      -422.043                          -4.24492\\n                      -139.819                           5.73555\\n                      -313.061                          -6.16709\\n                      -362.13                           -9.2593\\n                      -340.115                          -8.68973\\n                      -252.109                          -9.27587\\n                      -401.696                          15.4259\\n                      -375.171                         -13.1851\\n                      -183.098                          -9.55354\\n                      -121.945                          -1.58889\\n                      -281.535                          24.5083\\n                      -381.827                           9.18911\\n                      -367.089                          -7.18822\\n                      -367.157                         -11.1963\\n                      -369.104                          -8.1758\\n                      -395.079                          -6.67983\\n                      -281.03                           -2.53586\\n                      -405.061                          -4.45107\\n                      -167.238                         -16.7312\\n                      -116.473                          24.266\\n                      -216.785                           8.13045\\n                      -186.915                           1.71006\\n                      -146.77                            8.92033\\n                       -97.133                         -13.0583\\n                       -51.982                          -4.81229\\n                       -27.0979                        -10.23\\n                      -231.952                           0.534907\\n                      -167.076                          -8.75672\\n                      -156.868                           4.16316\\n                      -146.946                          -1.09673\\n                        32.9043                        -11.3054\\n                      -226.926                           1.38828\\n                      -197.004                          -4.22843\\n                       108.313                          10.3513\\n                        83.1183                          0.80687\\n                      -332.196                         -13.8133\\n                      -122.126                         -11.4699\\n                       -97.0194                         -5.90644\\n                      -196.625                          16.8731\\n                      -246.449                          27.8101\\n                      -266.629                          17.1502\\n                      -321.571                          22.1643\\n                       -71.8977                         -0.399656\\n                      -106.817                           5.20612\\n                       -22.0203                         -6.22944\\n                      -267.032                          -5.92309\\n                       133                              -4.86771\\n                       -86.914                           0.0796358\\n                      -127.061                          -8.29142\\n                      -227.069                          -7.61863\\n                       -66.7554                          8.47029\\n                      -176.765                           9.47319\\n                       -71.7684                          7.51064\\n                      -132.048                          -7.25503\\n                      -227.078                          -7.59338\\n                       -51.6895                         12.3581\\n                       -62.085                         -10.554\\n                         3.18276                         5.39136\\n                      -116.675                          14.5334\\n                      -236.921                           0.463037\\n                      -277.084                          -8.74033\\n                       -87.0274                         -7.1046\\n                        -6.98021                        -4.54114\\n                         3.1316                          2.33519\\n                        88.4581                         18.7763\\n                        93.4562                         18.6708\\n                      -186.943                          -0.213331'"
            ],
            "application/vnd.google.colaboratory.intrinsic+json": {
              "type": "string"
            }
          },
          "metadata": {},
          "execution_count": 152
        }
      ]
    },
    {
      "cell_type": "code",
      "source": [
        "print(tabulate(X_reduced, headers=col_names))"
      ],
      "metadata": {
        "colab": {
          "base_uri": "https://localhost:8080/"
        },
        "id": "LOpBFnIzZ_7b",
        "outputId": "bc26d3d7-74a1-4fe3-8f06-01ccba2b3557"
      },
      "execution_count": 153,
      "outputs": [
        {
          "output_type": "stream",
          "name": "stdout",
          "text": [
            "  Dimension Reduction Variable 1    Dimension Reduction Variable 2\n",
            "--------------------------------  --------------------------------\n",
            "                       318.563                          21.4921\n",
            "                       303.097                          -5.36472\n",
            "                       438.061                          -6.53731\n",
            "                       733.24                            0.192729\n",
            "                       -11.5714                         18.49\n",
            "                       703.231                          -0.332159\n",
            "                       542.972                         -13.519\n",
            "                       548.402                          11.4494\n",
            "                       298.037                          -8.18016\n",
            "                       298.05                           -7.10154\n",
            "                       763.08                           -8.33432\n",
            "                       532.943                         -14.2876\n",
            "                       572.834                         -21.005\n",
            "                       402.925                         -16.1026\n",
            "                       800.053                         -12.1184\n",
            "                       563.246                           2.21483\n",
            "                       533.38                           10.8048\n",
            "                       383.318                           8.47742\n",
            "                       933.118                          -8.35448\n",
            "                        98.4032                         14.3927\n",
            "                        33.5936                         25.568\n",
            "                        23.1464                          1.81747\n",
            "                       288.093                          -3.96304\n",
            "                       267.982                          -9.5707\n",
            "                        98.0199                         -5.49585\n",
            "                        83.4987                         22.8916\n",
            "                       447.926                         -14.7973\n",
            "                       537.919                         -15.3883\n",
            "                       168.21                            4.25531\n",
            "                       288.008                          -8.95973\n",
            "                       538.026                          -8.21274\n",
            "                       768.093                          -7.3799\n",
            "                       243.151                          -0.143915\n",
            "                       488.601                          23.5653\n",
            "                       348.231                           4.03808\n",
            "                       173.08                           -2.79292\n",
            "                       133.286                           7.77273\n",
            "                       358.019                          -8.15798\n",
            "                       273.044                          -6.72507\n",
            "                        13.643                          27.8468\n",
            "                        48.4296                         16.3219\n",
            "                       287.884                         -14.8851\n",
            "                       348.095                          -5.04343\n",
            "                       -66.8147                          4.38483\n",
            "                       138.227                           4.73069\n",
            "                       333.255                           5.31933\n",
            "                       318.112                          -3.48694\n",
            "                       238.111                          -3.05152\n",
            "                       313.12                           -2.30536\n",
            "                       513.188                          -0.863759\n",
            "                       402.939                         -15.0533\n",
            "                       517.929                         -14.9976\n",
            "                       443.266                           3.2605\n",
            "                       628.286                           4.04115\n",
            "                       313.398                          12.6089\n",
            "                       373.333                           9.6642\n",
            "                       223.417                          14.2169\n",
            "                       523.073                          -7.09663\n",
            "                       538.182                          -1.35678\n",
            "                      -227.033                          -7.99497\n",
            "                       -66.8501                          2.31987\n",
            "                      -296.824                           5.46848\n",
            "                      -116.97                           -3.72638\n",
            "                      -327.059                          -6.94813\n",
            "                      -391.752                          11.1717\n",
            "                       -68.9058                         -0.558621\n",
            "                      -245.213                         -17.4936\n",
            "                      -237.241                         -17.531\n",
            "                         3.29616                        10.0958\n",
            "                       -27.9661                         51.6301\n",
            "                       123.13                            1.05983\n",
            "                      -337.104                          -7.62386\n",
            "                      -275.096                          -7.75315\n",
            "                       238.717                          35.2518\n",
            "                       139.094                          -1.20748\n",
            "                      -318.876                           2.81077\n",
            "                      -355.06                           -7.5307\n",
            "                      -246.634                          16.5584\n",
            "                         3.77169                        36.0311\n",
            "                      -283.842                           6.36186\n",
            "                      -469.059                          -5.45892\n",
            "                       -33.1313                        -13.1871\n",
            "                      -117.29                          -19.5786\n",
            "                      -232.133                         -10.5301\n",
            "                      -226.953                          -1.77606\n",
            "                      -296.852                           4.4528\n",
            "                      -252.046                          -5.21262\n",
            "                      -185.109                          -8.31858\n",
            "                       -67.1808                        -14.5247\n",
            "                      -122.431                         -27.504\n",
            "                      -267.185                         -14.0539\n",
            "                      -297.104                          -8.41503\n",
            "                      -252.214                         -15.2516\n",
            "                      -457.022                          -3.69734\n",
            "                      -401.851                           5.3314\n",
            "                       191.183                          58.7938\n",
            "                      -121.279                          36.4175\n",
            "                      -319.088                          -9.19308\n",
            "                       -87.0803                        -10.2266\n",
            "                      -341.041                          -5.75057\n",
            "                       -36.9316                         -2.17042\n",
            "                      -185.074                          -8.52052\n",
            "                      -308.882                           3.75166\n",
            "                      -332.089                          -7.88373\n",
            "                       -75.1531                        -13.4138\n",
            "                      -432.01                           -2.03295\n",
            "                      -237.207                         -15.562\n",
            "                      -259.148                         -11.0788\n",
            "                      -434.958                          -0.059526\n",
            "                       -66.9907                         -4.57146\n",
            "                      -184.736                          10.5165\n",
            "                      -422.043                          -4.24492\n",
            "                      -139.819                           5.73555\n",
            "                      -313.061                          -6.16709\n",
            "                      -362.13                           -9.2593\n",
            "                      -340.115                          -8.68973\n",
            "                      -252.109                          -9.27587\n",
            "                      -401.696                          15.4259\n",
            "                      -375.171                         -13.1851\n",
            "                      -183.098                          -9.55354\n",
            "                      -121.945                          -1.58889\n",
            "                      -281.535                          24.5083\n",
            "                      -381.827                           9.18911\n",
            "                      -367.089                          -7.18822\n",
            "                      -367.157                         -11.1963\n",
            "                      -369.104                          -8.1758\n",
            "                      -395.079                          -6.67983\n",
            "                      -281.03                           -2.53586\n",
            "                      -405.061                          -4.45107\n",
            "                      -167.238                         -16.7312\n",
            "                      -116.473                          24.266\n",
            "                      -216.785                           8.13045\n",
            "                      -186.915                           1.71006\n",
            "                      -146.77                            8.92033\n",
            "                       -97.133                         -13.0583\n",
            "                       -51.982                          -4.81229\n",
            "                       -27.0979                        -10.23\n",
            "                      -231.952                           0.534907\n",
            "                      -167.076                          -8.75672\n",
            "                      -156.868                           4.16316\n",
            "                      -146.946                          -1.09673\n",
            "                        32.9043                        -11.3054\n",
            "                      -226.926                           1.38828\n",
            "                      -197.004                          -4.22843\n",
            "                       108.313                          10.3513\n",
            "                        83.1183                          0.80687\n",
            "                      -332.196                         -13.8133\n",
            "                      -122.126                         -11.4699\n",
            "                       -97.0194                         -5.90644\n",
            "                      -196.625                          16.8731\n",
            "                      -246.449                          27.8101\n",
            "                      -266.629                          17.1502\n",
            "                      -321.571                          22.1643\n",
            "                       -71.8977                         -0.399656\n",
            "                      -106.817                           5.20612\n",
            "                       -22.0203                         -6.22944\n",
            "                      -267.032                          -5.92309\n",
            "                       133                              -4.86771\n",
            "                       -86.914                           0.0796358\n",
            "                      -127.061                          -8.29142\n",
            "                      -227.069                          -7.61863\n",
            "                       -66.7554                          8.47029\n",
            "                      -176.765                           9.47319\n",
            "                       -71.7684                          7.51064\n",
            "                      -132.048                          -7.25503\n",
            "                      -227.078                          -7.59338\n",
            "                       -51.6895                         12.3581\n",
            "                       -62.085                         -10.554\n",
            "                         3.18276                         5.39136\n",
            "                      -116.675                          14.5334\n",
            "                      -236.921                           0.463037\n",
            "                      -277.084                          -8.74033\n",
            "                       -87.0274                         -7.1046\n",
            "                        -6.98021                        -4.54114\n",
            "                         3.1316                          2.33519\n",
            "                        88.4581                         18.7763\n",
            "                        93.4562                         18.6708\n",
            "                      -186.943                          -0.213331\n"
          ]
        }
      ]
    },
    {
      "cell_type": "code",
      "source": [
        "import pylab as plt\n",
        "plt.scatter(X_reduced[:, 0], X_reduced[:, 1], c=y,\n",
        "           cmap='RdYlBu')\n",
        "\n",
        "print(\"PCA is simple, linear model, so we can even construct the meaning of the 2 components (for other, more complex models this is not so straightforward):\")\n",
        "for component in pca.components_:\n",
        "    print(\" + \".join(\"%.3f x %s\" % (value, name)\n",
        "                     for value, name in zip(component,\n",
        "                                            wine.feature_names)))\n",
        "    \n",
        "    "
      ],
      "metadata": {
        "colab": {
          "base_uri": "https://localhost:8080/",
          "height": 421
        },
        "id": "Y6GXHspm4Bgj",
        "outputId": "7b70a717-32bf-40d7-86cc-c7ce139acc00"
      },
      "execution_count": 154,
      "outputs": [
        {
          "output_type": "stream",
          "name": "stdout",
          "text": [
            "PCA is simple, linear model, so we can even construct the meaning of the 2 components (for other, more complex models this is not so straightforward):\n",
            "0.002 x alcohol + -0.001 x malic_acid + 0.000 x ash + -0.005 x alcalinity_of_ash + 0.018 x magnesium + 0.001 x total_phenols + 0.002 x flavanoids + -0.000 x nonflavanoid_phenols + 0.001 x proanthocyanins + 0.002 x color_intensity + 0.000 x hue + 0.001 x od280/od315_of_diluted_wines + 1.000 x proline\n",
            "0.001 x alcohol + 0.002 x malic_acid + 0.005 x ash + 0.026 x alcalinity_of_ash + 0.999 x magnesium + 0.001 x total_phenols + -0.000 x flavanoids + -0.001 x nonflavanoid_phenols + 0.005 x proanthocyanins + 0.015 x color_intensity + -0.001 x hue + -0.003 x od280/od315_of_diluted_wines + -0.018 x proline\n"
          ]
        },
        {
          "output_type": "display_data",
          "data": {
            "text/plain": [
              "<Figure size 576x396 with 1 Axes>"
            ],
            "image/png": "[encoded data removed]"
          },
          "metadata": {}
        }
      ]
    }
  ]
}